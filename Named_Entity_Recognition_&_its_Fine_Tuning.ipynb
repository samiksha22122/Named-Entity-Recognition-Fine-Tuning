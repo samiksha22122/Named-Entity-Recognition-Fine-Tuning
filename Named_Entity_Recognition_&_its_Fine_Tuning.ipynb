{
  "nbformat": 4,
  "nbformat_minor": 0,
  "metadata": {
    "colab": {
      "provenance": []
    },
    "kernelspec": {
      "name": "python3",
      "display_name": "Python 3"
    },
    "language_info": {
      "name": "python"
    }
  },
  "cells": [
    {
      "cell_type": "code",
      "source": [
        "#Named Entity Recognition gives name/entity to a specific word in sentence to make our model classify that particular word correctly into specific category\n",
        "#it uses spacy"
      ],
      "metadata": {
        "id": "Tgi8Xqp1UG-4"
      },
      "execution_count": 123,
      "outputs": []
    },
    {
      "cell_type": "code",
      "source": [
        "for ent in ner.pipe_labels['ner']:\n",
        "  print(ent, '=>', spacy.explain(ent))"
      ],
      "metadata": {
        "colab": {
          "base_uri": "https://localhost:8080/"
        },
        "id": "cZs3uaUOQQLp",
        "outputId": "af920dcf-0f02-4955-c75c-eb8ade9b9e95"
      },
      "execution_count": 124,
      "outputs": [
        {
          "output_type": "stream",
          "name": "stdout",
          "text": [
            "CARDINAL => Numerals that do not fall under another type\n",
            "DATE => Absolute or relative dates or periods\n",
            "EVENT => Named hurricanes, battles, wars, sports events, etc.\n",
            "FAC => Buildings, airports, highways, bridges, etc.\n",
            "GPE => Countries, cities, states\n",
            "LANGUAGE => Any named language\n",
            "LAW => Named documents made into laws.\n",
            "LOC => Non-GPE locations, mountain ranges, bodies of water\n",
            "MONEY => Monetary values, including unit\n",
            "NORP => Nationalities or religious or political groups\n",
            "ORDINAL => \"first\", \"second\", etc.\n",
            "ORG => Companies, agencies, institutions, etc.\n",
            "PERCENT => Percentage, including \"%\"\n",
            "PERSON => People, including fictional\n",
            "PHONE => None\n",
            "PRODUCT => Objects, vehicles, foods, etc. (not services)\n",
            "QUANTITY => Measurements, as of weight or distance\n",
            "TIME => Times smaller than a day\n",
            "WORK_OF_ART => Titles of books, songs, etc.\n"
          ]
        },
        {
          "output_type": "stream",
          "name": "stderr",
          "text": [
            "/usr/local/lib/python3.10/dist-packages/spacy/glossary.py:20: UserWarning: [W118] Term 'PHONE' not found in glossary. It may however be explained in documentation for the corpora used to train the language. Please check `nlp.meta[\"sources\"]` for any relevant links.\n",
            "  warnings.warn(Warnings.W118.format(term=term))\n"
          ]
        }
      ]
    },
    {
      "cell_type": "code",
      "execution_count": 125,
      "metadata": {
        "colab": {
          "base_uri": "https://localhost:8080/"
        },
        "id": "srtHlSumP8NT",
        "outputId": "bdf2bbd0-29e8-4646-976d-b3bf3403f2ca"
      },
      "outputs": [
        {
          "output_type": "stream",
          "name": "stdout",
          "text": [
            "bill gates PERSON People, including fictional\n",
            "microsoft ORG Companies, agencies, institutions, etc.\n"
          ]
        }
      ],
      "source": [
        "import spacy\n",
        "\n",
        "# Load the small English model\n",
        "ner = spacy.load('en_core_web_sm')  #inbuilt pipeline\n",
        "\n",
        "# Process a text\n",
        "doc = ner(\"bill gates founded microsoft\")\n",
        "\n",
        "# Print named entities\n",
        "for ent in doc.ents:\n",
        "    print(ent.text, ent.label_,spacy.explain(ent.label_))"
      ]
    },
    {
      "cell_type": "code",
      "source": [
        "doc.ents[0].label_"
      ],
      "metadata": {
        "colab": {
          "base_uri": "https://localhost:8080/",
          "height": 35
        },
        "id": "Pk769YZpgBRi",
        "outputId": "73c8ea9e-1958-471d-f068-1aafe29b95d5"
      },
      "execution_count": 126,
      "outputs": [
        {
          "output_type": "execute_result",
          "data": {
            "text/plain": [
              "'PERSON'"
            ],
            "application/vnd.google.colaboratory.intrinsic+json": {
              "type": "string"
            }
          },
          "metadata": {},
          "execution_count": 126
        }
      ]
    },
    {
      "cell_type": "code",
      "source": [
        "doc.ents[1].label_"
      ],
      "metadata": {
        "colab": {
          "base_uri": "https://localhost:8080/",
          "height": 35
        },
        "id": "NbHQiDgrgJca",
        "outputId": "20b2362f-89b2-4ab3-a7ea-bc4fd63a06a7"
      },
      "execution_count": 127,
      "outputs": [
        {
          "output_type": "execute_result",
          "data": {
            "text/plain": [
              "'ORG'"
            ],
            "application/vnd.google.colaboratory.intrinsic+json": {
              "type": "string"
            }
          },
          "metadata": {},
          "execution_count": 127
        }
      ]
    },
    {
      "cell_type": "code",
      "source": [
        "from spacy import displacy\n",
        "displacy.render(doc.ents, style='ent',jupyter=True)"
      ],
      "metadata": {
        "colab": {
          "base_uri": "https://localhost:8080/",
          "height": 87
        },
        "id": "1lFhIxr3gs_b",
        "outputId": "14d61577-0cbf-4821-8d52-b17bc4230360"
      },
      "execution_count": 128,
      "outputs": [
        {
          "output_type": "display_data",
          "data": {
            "text/plain": [
              "<IPython.core.display.HTML object>"
            ],
            "text/html": [
              "<span class=\"tex2jax_ignore\"><div class=\"entities\" style=\"line-height: 2.5; direction: ltr\">\n",
              "<mark class=\"entity\" style=\"background: #aa9cfc; padding: 0.45em 0.6em; margin: 0 0.25em; line-height: 1; border-radius: 0.35em;\">\n",
              "    bill gates\n",
              "    <span style=\"font-size: 0.8em; font-weight: bold; line-height: 1; border-radius: 0.35em; vertical-align: middle; margin-left: 0.5rem\">PERSON</span>\n",
              "</mark>\n",
              " </div>\n",
              "\n",
              "<div class=\"entities\" style=\"line-height: 2.5; direction: ltr\">\n",
              "<mark class=\"entity\" style=\"background: #7aecec; padding: 0.45em 0.6em; margin: 0 0.25em; line-height: 1; border-radius: 0.35em;\">\n",
              "    microsoft\n",
              "    <span style=\"font-size: 0.8em; font-weight: bold; line-height: 1; border-radius: 0.35em; vertical-align: middle; margin-left: 0.5rem\">ORG</span>\n",
              "</mark>\n",
              "</div></span>"
            ]
          },
          "metadata": {}
        }
      ]
    },
    {
      "cell_type": "code",
      "source": [
        "#Ways to build NER on custom entities\n",
        "#1. Dictionary\n",
        "#2. Rule based  : EntityRuler===>pattern based\n",
        "#3. ML : Finetuning of spacy3 model using bert model"
      ],
      "metadata": {
        "id": "lG-yhR7ujI6R"
      },
      "execution_count": 129,
      "outputs": []
    },
    {
      "cell_type": "markdown",
      "source": [
        "# 1. Dictionary"
      ],
      "metadata": {
        "id": "yQgTxDrZoCZ0"
      }
    },
    {
      "cell_type": "code",
      "source": [
        "text1 = \"we are learning nlp in campusx\"\n",
        "doc=ner(text1)\n",
        "for entity in doc.ents:\n",
        "  print(entity.text,entity.label_)"
      ],
      "metadata": {
        "id": "3kHby1bMnH5d"
      },
      "execution_count": 130,
      "outputs": []
    },
    {
      "cell_type": "code",
      "source": [
        "doc[5:6]"
      ],
      "metadata": {
        "colab": {
          "base_uri": "https://localhost:8080/"
        },
        "id": "L_rfS3h6n8S2",
        "outputId": "f911acfd-2457-4849-fa48-08b3319cc697"
      },
      "execution_count": 131,
      "outputs": [
        {
          "output_type": "execute_result",
          "data": {
            "text/plain": [
              "campusx"
            ]
          },
          "metadata": {},
          "execution_count": 131
        }
      ]
    },
    {
      "cell_type": "code",
      "source": [
        "from spacy.tokens import Span\n",
        "span1=Span(doc, 5,6, label='ORG')\n",
        "doc.set_ents([span1],default='unmodified')\n",
        "for entity in doc.ents:\n",
        "  print(entity.text,'=>',entity.label_)"
      ],
      "metadata": {
        "colab": {
          "base_uri": "https://localhost:8080/"
        },
        "id": "_uwczragnN1y",
        "outputId": "d848aaef-ad73-4f12-ba6c-90e29d8e493f"
      },
      "execution_count": 132,
      "outputs": [
        {
          "output_type": "stream",
          "name": "stdout",
          "text": [
            "campusx => ORG\n"
          ]
        }
      ]
    },
    {
      "cell_type": "markdown",
      "source": [
        "#2. Rule based"
      ],
      "metadata": {
        "id": "E8CsohFjoJRy"
      }
    },
    {
      "cell_type": "code",
      "source": [
        "from spacy.pipeline import EntityRuler              #pattern based"
      ],
      "metadata": {
        "id": "0gMj9AXFQRws"
      },
      "execution_count": 133,
      "outputs": []
    },
    {
      "cell_type": "code",
      "source": [
        "ner = spacy.load(\"en_core_web_sm\")\n",
        "ner.pipe_names                           #these are the things inside en core web model/pipeline=> tok2vec tager, parser, etc"
      ],
      "metadata": {
        "colab": {
          "base_uri": "https://localhost:8080/"
        },
        "id": "RCWZZuQSsHg_",
        "outputId": "7e17e7a3-79f5-4d25-95ee-fef5dd0b402d"
      },
      "execution_count": 134,
      "outputs": [
        {
          "output_type": "execute_result",
          "data": {
            "text/plain": [
              "['tok2vec', 'tagger', 'parser', 'attribute_ruler', 'lemmatizer', 'ner']"
            ]
          },
          "metadata": {},
          "execution_count": 134
        }
      ]
    },
    {
      "cell_type": "code",
      "source": [
        "#pattern- number"
      ],
      "metadata": {
        "id": "gXV7z9IWsk1o"
      },
      "execution_count": 135,
      "outputs": []
    },
    {
      "cell_type": "code",
      "source": [
        "ner = spacy.load(\"en_core_web_sm\")\n",
        "# pattern define\n",
        "patterns = [{\"label\": \"PHONE\", \"pattern\" : [{\"TEXT\" : {\"REGEX\": \"[0-9]{10}\"}}]}]\n",
        "#add entityruler component to pipeline\n",
        "ruler = ner.add_pipe(\"entity_ruler\", before=\"ner\")\n",
        "print(ner.pipe_names)           #entityruler will be added before 'ner'\n",
        "#add pattern in ruler\n",
        "ruler.add_patterns(patterns)\n",
        "text = \"We are learning ml in campusx and contact is 9876543210\"\n",
        "doc = ner(text)\n",
        "for entity in doc.ents:\n",
        "  print(entity.text, '=>',entity.label_)"
      ],
      "metadata": {
        "colab": {
          "base_uri": "https://localhost:8080/"
        },
        "id": "aecP48b2qAUd",
        "outputId": "2de4bfde-8b3b-47c6-9a77-a1a882c5ecb3"
      },
      "execution_count": 136,
      "outputs": [
        {
          "output_type": "stream",
          "name": "stdout",
          "text": [
            "['tok2vec', 'tagger', 'parser', 'attribute_ruler', 'lemmatizer', 'entity_ruler', 'ner']\n",
            "9876543210 => PHONE\n"
          ]
        }
      ]
    },
    {
      "cell_type": "code",
      "source": [
        "#pattern- person,org"
      ],
      "metadata": {
        "id": "ttQz8GIGsph3"
      },
      "execution_count": 137,
      "outputs": []
    },
    {
      "cell_type": "code",
      "source": [
        "ner = spacy.load(\"en_core_web_sm\")\n",
        "patterns = [{\"label\": \"PERSON\", \"pattern\" : [{\"TEXT\" : \"narayan\"}, {\"TEXT\" : \"murty\"}]},\n",
        "            {\"label\": \"ORG\", \"pattern\" : [{\"TEXT\" : \"infosys\"}]},\n",
        "            {\"label\": \"PERSON\", \"pattern\" : [{\"TEXT\" : \"Murty\"}]}]\n",
        "ruler = ner.add_pipe(\"entity_ruler\", before=\"ner\")\n",
        "]ruler.add_patterns(patterns)\n",
        "text = \"Murty founded infosys\"\n",
        "doc = ner(text)\n",
        "for entity in doc.ents:\n",
        "  print(entity.text, '=>',entity.label_,  '=>',spacy.explain(entity.label_))"
      ],
      "metadata": {
        "colab": {
          "base_uri": "https://localhost:8080/"
        },
        "id": "Gttch6znQXId",
        "outputId": "7a54a831-7cb4-43dd-878d-46a7ea742d1f"
      },
      "execution_count": 138,
      "outputs": [
        {
          "output_type": "stream",
          "name": "stdout",
          "text": [
            "Murty => PERSON => People, including fictional\n",
            "infosys => ORG => Companies, agencies, institutions, etc.\n"
          ]
        }
      ]
    },
    {
      "cell_type": "code",
      "source": [
        "#pattern- person,phone,email"
      ],
      "metadata": {
        "id": "nR1AtQJ9sytu"
      },
      "execution_count": 139,
      "outputs": []
    },
    {
      "cell_type": "code",
      "source": [
        "ner = spacy.load(\"en_core_web_sm\")\n",
        "patterns = [{\"label\": \"PHONE\", \"pattern\" : [{\"TEXT\" : {\"REGEX\": \"[0-9]{10}\"}}]},\n",
        "            {\"label\": \"EMAIL\", \"pattern\" : [{\"TEXT\" : {\"REGEX\": \"[a-z]@[a-z.]\"}}]}]\n",
        "ruler = ner.add_pipe(\"entity_ruler\", before=\"ner\")\n",
        "ruler.add_patterns(patterns)\n",
        "text = \"narayan murty founded infosys and his contact is 9876543210 and email is murty@infosys.com\"\n",
        "doc = ner(text)\n",
        "for entity in doc.ents:\n",
        "  print(entity.text, '=>',entity.label_,)"
      ],
      "metadata": {
        "colab": {
          "base_uri": "https://localhost:8080/"
        },
        "id": "NqCHZGLiQZ38",
        "outputId": "abc6dd4b-d26f-4c1d-c2f9-68cebe817e3c"
      },
      "execution_count": 140,
      "outputs": [
        {
          "output_type": "stream",
          "name": "stdout",
          "text": [
            "narayan murty => PERSON\n",
            "9876543210 => PHONE\n",
            "murty@infosys.com => EMAIL\n"
          ]
        }
      ]
    },
    {
      "cell_type": "markdown",
      "source": [
        "# 3. **FineTuning**\n",
        "\n"
      ],
      "metadata": {
        "id": "DZo6V2JWRaAv"
      }
    },
    {
      "cell_type": "code",
      "source": [
        "#labelling tools\n",
        "\n",
        "# prodi.gy --> paid\n",
        "# https://tecoholic.github.io/ner-annotator/ --> opensource"
      ],
      "metadata": {
        "id": "08Df4QxT0kqF"
      },
      "execution_count": null,
      "outputs": []
    },
    {
      "cell_type": "code",
      "source": [
        "import spacy\n",
        "from spacy.tokens import DocBin\n",
        "db = DocBin()"
      ],
      "metadata": {
        "id": "ovMnV7a3QewO"
      },
      "execution_count": 141,
      "outputs": []
    },
    {
      "cell_type": "code",
      "source": [
        "nlp = spacy.blank('en')   #blank-> blank pipeline nothing in it and language is 'en' i.e english"
      ],
      "metadata": {
        "id": "tU69UV5eRmZ1"
      },
      "execution_count": 142,
      "outputs": []
    },
    {
      "cell_type": "code",
      "source": [
        "import json\n",
        "f = open(\"/content/annotations.json\")\n",
        "TRAIN_DATA = json.load(f)"
      ],
      "metadata": {
        "id": "znURtyI3RmWk"
      },
      "execution_count": 143,
      "outputs": []
    },
    {
      "cell_type": "code",
      "source": [
        "TRAIN_DATA"
      ],
      "metadata": {
        "colab": {
          "base_uri": "https://localhost:8080/"
        },
        "id": "xkUA-MdsRmUN",
        "outputId": "1a504e6c-ddea-472d-bd1b-ffe8fad81e63"
      },
      "execution_count": 144,
      "outputs": [
        {
          "output_type": "execute_result",
          "data": {
            "text/plain": [
              "{'classes': ['VIRUS', 'DIESESE'],\n",
              " 'annotations': [[\"Coronavirus disease 2019 (COVID-19) is a contagious disease caused by the virus SARS-CoV-2. The first known case was identified in Wuhan, China, in December 2019.[6] The disease quickly spread worldwide, resulting in the COVID-19 pandemic.\\r\\n\\r\\nThe symptoms of COVID‑19 are variable but often include fever,[7] cough, headache,[8] fatigue, breathing difficulties, loss of smell, and loss of taste.[9][10][11] Symptoms may begin one to fourteen days after exposure to the virus. At least a third of people who are infected do not develop noticeable symptoms.[12][13] Of those who develop symptoms noticeable enough to be classified as patients, most (81%) develop mild to moderate symptoms (up to mild pneumonia), while 14% develop severe symptoms (dyspnea, hypoxia, or more than 50% lung involvement on imaging), and 5% develop critical symptoms (respiratory failure, shock, or multiorgan dysfunction).[14] Older people are at a higher risk of developing severe symptoms. Some people continue to experience a range of effects (long COVID) for months or years after infection, and damage to organs has been observed.[15] Multi-year studies are underway to further investigate the long-term effects of the disease.[16]\\r\\n\\r\\nCOVID‑19 transmits when infectious particles are breathed in or come into contact with the eyes, nose, or mouth. The risk is highest when people are in close proximity, but small airborne particles containing the virus can remain suspended in the air and travel over longer distances, particularly indoors. Transmission can also occur when people touch their eyes, nose or mouth after touching surfaces or objects that have been contaminated by the virus. People remain contagious for up to 20 days and can spread the virus even if they do not develop symptoms.[17]\\r\\n\\r\\nTesting methods for COVID-19 to detect the virus's nucleic acid include real-time reverse transcription polymerase chain reaction (RT‑PCR),[18][19] transcription-mediated amplification,[18][19][20] and reverse transcription loop-mediated isothermal amplification (RT‑LAMP)[18][19] from a nasopharyngeal swab.[21]\\r\\n\\r\\nSeveral COVID-19 vaccines have been approved and distributed in various countries, which have initiated mass vaccination campaigns. Other preventive measures include physical or social distancing,\",\n",
              "   {'entities': [[26, 34, 'VIRUS'],\n",
              "     [80, 91, 'VIRUS'],\n",
              "     [221, 229, 'VIRUS'],\n",
              "     [259, 267, 'VIRUS'],\n",
              "     [299, 304, 'DIESESE'],\n",
              "     [309, 314, 'DIESESE'],\n",
              "     [316, 324, 'DIESESE'],\n",
              "     [329, 336, 'DIESESE'],\n",
              "     [338, 360, 'DIESESE'],\n",
              "     [362, 375, 'DIESESE'],\n",
              "     [381, 395, 'DIESESE'],\n",
              "     [1218, 1226, 'VIRUS'],\n",
              "     [2111, 2119, 'VIRUS']]}]]}"
            ]
          },
          "metadata": {},
          "execution_count": 144
        }
      ]
    },
    {
      "cell_type": "code",
      "source": [
        "for text, annot in TRAIN_DATA[\"annotations\"]:\n",
        "  doc = nlp.make_doc(text)\n",
        "  ent = []\n",
        "  for start, end, label in annot['entities']:\n",
        "    span = doc.char_span(start, end, label, alignment_mode='contract')   #contract will remove start space or end space\n",
        "    if span is None:\n",
        "      print('none')\n",
        "    else:\n",
        "      ent.append(span)\n",
        "    doc.ents = ent\n",
        "    db.add(doc)\n",
        "db.to_disk(\"training_data.spacy\")"
      ],
      "metadata": {
        "colab": {
          "base_uri": "https://localhost:8080/"
        },
        "id": "uHY7Tn9DRmSQ",
        "outputId": "59e80fc3-8dc7-46c8-e2c4-19073716dc6f"
      },
      "execution_count": 145,
      "outputs": [
        {
          "output_type": "stream",
          "name": "stdout",
          "text": [
            "none\n",
            "none\n"
          ]
        }
      ]
    },
    {
      "cell_type": "code",
      "source": [
        "!python -m spacy init config config.cfg --lang en --pipeline ner --optimize efficiency"
      ],
      "metadata": {
        "colab": {
          "base_uri": "https://localhost:8080/"
        },
        "id": "LKArwStaRmPz",
        "outputId": "a7d52820-37eb-4a04-96c1-0112312ff83b"
      },
      "execution_count": 146,
      "outputs": [
        {
          "output_type": "stream",
          "name": "stdout",
          "text": [
            "\u001b[38;5;3m⚠ To generate a more effective transformer-based config (GPU-only),\n",
            "install the spacy-transformers package and re-run this command. The config\n",
            "generated now does not use transformers.\u001b[0m\n",
            "\u001b[38;5;4mℹ Generated config template specific for your use case\u001b[0m\n",
            "- Language: en\n",
            "- Pipeline: ner\n",
            "- Optimize for: efficiency\n",
            "- Hardware: CPU\n",
            "- Transformer: None\n",
            "\u001b[38;5;2m✔ Auto-filled config with all values\u001b[0m\n",
            "\u001b[38;5;2m✔ Saved config\u001b[0m\n",
            "config.cfg\n",
            "You can now add your data and train your pipeline:\n",
            "python -m spacy train config.cfg --paths.train ./train.spacy --paths.dev ./dev.spacy\n"
          ]
        }
      ]
    },
    {
      "cell_type": "code",
      "source": [
        "!python -m spacy train config.cfg --output ./ --paths.train ./training_data.spacy --paths.dev ./training_data.spacy"
      ],
      "metadata": {
        "colab": {
          "base_uri": "https://localhost:8080/"
        },
        "id": "X_yteIRdRmNY",
        "outputId": "cbd58621-8a54-4401-e35d-3131ecdd1f96"
      },
      "execution_count": 147,
      "outputs": [
        {
          "output_type": "stream",
          "name": "stdout",
          "text": [
            "\u001b[38;5;4mℹ Saving to output directory: .\u001b[0m\n",
            "\u001b[38;5;4mℹ Using CPU\u001b[0m\n",
            "\u001b[1m\n",
            "=========================== Initializing pipeline ===========================\u001b[0m\n",
            "\u001b[38;5;2m✔ Initialized pipeline\u001b[0m\n",
            "\u001b[1m\n",
            "============================= Training pipeline =============================\u001b[0m\n",
            "\u001b[38;5;4mℹ Pipeline: ['tok2vec', 'ner']\u001b[0m\n",
            "\u001b[38;5;4mℹ Initial learn rate: 0.001\u001b[0m\n",
            "E    #       LOSS TOK2VEC  LOSS NER  ENTS_F  ENTS_P  ENTS_R  SCORE \n",
            "---  ------  ------------  --------  ------  ------  ------  ------\n",
            "  0       0          0.00    166.70    0.00    0.00    0.00    0.00\n",
            " 15     200       5211.11   4614.28   77.14   83.08   72.00    0.77\n",
            " 30     400         25.14    818.85   72.44   88.46   61.33    0.72\n",
            " 46     600         27.61    792.73   77.14   83.08   72.00    0.77\n",
            " 61     800         32.84    792.10   77.14   83.08   72.00    0.77\n",
            " 76    1000         37.06    798.88   77.14   83.08   72.00    0.77\n",
            " 92    1200         36.49    780.57   77.14   83.08   72.00    0.77\n",
            "107    1400         57.02    799.80   77.14   83.08   72.00    0.77\n",
            "123    1600         59.25    781.63   78.43   76.92   80.00    0.78\n",
            "138    1800         58.97    764.81   77.14   83.08   72.00    0.77\n",
            "153    2000         66.79    792.45   77.14   83.08   72.00    0.77\n",
            "169    2200         92.12    769.80   77.14   83.08   72.00    0.77\n",
            "184    2400         83.80    801.44   77.14   83.08   72.00    0.77\n",
            "200    2600        111.81    772.61   77.14   83.08   72.00    0.77\n",
            "215    2800        115.75    782.15   77.14   83.08   72.00    0.77\n",
            "230    3000        267.05    791.63   77.14   83.08   72.00    0.77\n",
            "246    3200        177.60    781.34   77.14   83.08   72.00    0.77\n",
            "\u001b[38;5;2m✔ Saved pipeline to output directory\u001b[0m\n",
            "model-last\n"
          ]
        }
      ]
    },
    {
      "cell_type": "code",
      "source": [
        "!python -m spacy train --help"
      ],
      "metadata": {
        "colab": {
          "base_uri": "https://localhost:8080/"
        },
        "id": "WmnqxDdCRmLC",
        "outputId": "76463261-fc60-410e-e598-ea833de1045c"
      },
      "execution_count": 148,
      "outputs": [
        {
          "output_type": "stream",
          "name": "stdout",
          "text": [
            "\u001b[1m                                                                                                    \u001b[0m\n",
            "\u001b[1m \u001b[0m\u001b[1;33mUsage: \u001b[0m\u001b[1mpython \u001b[0m\u001b[1;32m-m\u001b[0m\u001b[1m spacy train [OPTIONS] CONFIG_PATH\u001b[0m\u001b[1m                                                \u001b[0m\u001b[1m \u001b[0m\n",
            "\u001b[1m                                                                                                    \u001b[0m\n",
            " Train or update a spaCy pipeline. Requires data in spaCy's binary format. To convert data from     \n",
            " other formats, use the `spacy convert` command. The config file includes all settings and          \n",
            " hyperparameters used during training. To override settings in the config, e.g. settings that point \n",
            " to local paths or that you want to experiment with, you can override them as command line options. \n",
            " For instance, \u001b[1;36m-\u001b[0m\u001b[1;36m-training\u001b[0m.batch_size 128 overrides the value of \"batch_size\" in the block           \n",
            " \"[training]\". The \u001b[1;36m-\u001b[0m\u001b[1;36m-code\u001b[0m argument lets you pass in a Python file that's imported before training.  \n",
            " It can be used to register custom functions and architectures that can then be referenced in the   \n",
            " config.                                                                                            \n",
            " \u001b[2mDOCS: https://spacy.io/api/cli#train\u001b[0m                                                               \n",
            "                                                                                                    \n",
            "\u001b[2m╭─\u001b[0m\u001b[2m Arguments \u001b[0m\u001b[2m─────────────────────────────────────────────────────────────────────────────────────\u001b[0m\u001b[2m─╮\u001b[0m\n",
            "\u001b[2m│\u001b[0m \u001b[31m*\u001b[0m    config_path      \u001b[1;33mPATH\u001b[0m  Path to config file \u001b[2m[default: None]\u001b[0m \u001b[2;31m[required]\u001b[0m                       \u001b[2m│\u001b[0m\n",
            "\u001b[2m╰──────────────────────────────────────────────────────────────────────────────────────────────────╯\u001b[0m\n",
            "\u001b[2m╭─\u001b[0m\u001b[2m Options \u001b[0m\u001b[2m───────────────────────────────────────────────────────────────────────────────────────\u001b[0m\u001b[2m─╮\u001b[0m\n",
            "\u001b[2m│\u001b[0m \u001b[1;36m-\u001b[0m\u001b[1;36m-output\u001b[0m,\u001b[1;36m-\u001b[0m\u001b[1;36m-output\u001b[0m\u001b[1;36m-path\u001b[0m  \u001b[1;32m-o\u001b[0m          \u001b[1;33mPATH   \u001b[0m  Output directory to store trained pipeline in       \u001b[2m│\u001b[0m\n",
            "\u001b[2m│\u001b[0m                                              \u001b[2m[default: None]                              \u001b[0m       \u001b[2m│\u001b[0m\n",
            "\u001b[2m│\u001b[0m \u001b[1;36m-\u001b[0m\u001b[1;36m-code\u001b[0m                  \u001b[1;32m-c\u001b[0m          \u001b[1;33mPATH   \u001b[0m  Path to Python file with additional code            \u001b[2m│\u001b[0m\n",
            "\u001b[2m│\u001b[0m                                              (registered functions) to be imported               \u001b[2m│\u001b[0m\n",
            "\u001b[2m│\u001b[0m                                              \u001b[2m[default: None]                                    \u001b[0m \u001b[2m│\u001b[0m\n",
            "\u001b[2m│\u001b[0m \u001b[1;36m-\u001b[0m\u001b[1;36m-verbose\u001b[0m               \u001b[1;32m-V\u001b[0m,\u001b[1;32m-VV\u001b[0m      \u001b[1;33m       \u001b[0m  Display more information for debugging purposes     \u001b[2m│\u001b[0m\n",
            "\u001b[2m│\u001b[0m \u001b[1;36m-\u001b[0m\u001b[1;36m-gpu\u001b[0m\u001b[1;36m-id\u001b[0m                \u001b[1;32m-g\u001b[0m          \u001b[1;33mINTEGER\u001b[0m  GPU ID or \u001b[1;32m-1\u001b[0m for CPU \u001b[2m[default: -1]\u001b[0m                  \u001b[2m│\u001b[0m\n",
            "\u001b[2m│\u001b[0m \u001b[1;36m-\u001b[0m\u001b[1;36m-help\u001b[0m                              \u001b[1;33m       \u001b[0m  Show this message and exit.                         \u001b[2m│\u001b[0m\n",
            "\u001b[2m╰──────────────────────────────────────────────────────────────────────────────────────────────────╯\u001b[0m\n",
            "\n"
          ]
        }
      ]
    },
    {
      "cell_type": "code",
      "source": [
        "##making inferences/predictions on trained model"
      ],
      "metadata": {
        "id": "DnuIpk-TRmIo"
      },
      "execution_count": 142,
      "outputs": []
    },
    {
      "cell_type": "code",
      "source": [
        "trained_ner = spacy.load(\"/content/model-best\")            #this is our trained pipeline not web-core-sm one we will load ours"
      ],
      "metadata": {
        "id": "0oKUaWw0RmGP"
      },
      "execution_count": 149,
      "outputs": []
    },
    {
      "cell_type": "code",
      "source": [
        "text = \"covid is disease.\"\n",
        "doc = trained_ner(text)\n",
        "doc.ents"
      ],
      "metadata": {
        "colab": {
          "base_uri": "https://localhost:8080/"
        },
        "id": "LxUhlFmWRlwY",
        "outputId": "7b037176-cff0-4c27-b1cc-6f29e742286c"
      },
      "execution_count": 154,
      "outputs": [
        {
          "output_type": "execute_result",
          "data": {
            "text/plain": [
              "()"
            ]
          },
          "metadata": {},
          "execution_count": 154
        }
      ]
    },
    {
      "cell_type": "markdown",
      "source": [
        "# Transformers (doing NER using transformers)"
      ],
      "metadata": {
        "id": "XNP7K4Jc6zAV"
      }
    },
    {
      "cell_type": "code",
      "source": [
        "!pip install transformers"
      ],
      "metadata": {
        "colab": {
          "base_uri": "https://localhost:8080/"
        },
        "id": "_-z6rSae6cEV",
        "outputId": "1fab9a3c-63c0-436d-a14e-47ec82ebc084"
      },
      "execution_count": 155,
      "outputs": [
        {
          "output_type": "stream",
          "name": "stdout",
          "text": [
            "Requirement already satisfied: transformers in /usr/local/lib/python3.10/dist-packages (4.42.4)\n",
            "Requirement already satisfied: filelock in /usr/local/lib/python3.10/dist-packages (from transformers) (3.15.4)\n",
            "Requirement already satisfied: huggingface-hub<1.0,>=0.23.2 in /usr/local/lib/python3.10/dist-packages (from transformers) (0.23.5)\n",
            "Requirement already satisfied: numpy<2.0,>=1.17 in /usr/local/lib/python3.10/dist-packages (from transformers) (1.26.4)\n",
            "Requirement already satisfied: packaging>=20.0 in /usr/local/lib/python3.10/dist-packages (from transformers) (24.1)\n",
            "Requirement already satisfied: pyyaml>=5.1 in /usr/local/lib/python3.10/dist-packages (from transformers) (6.0.2)\n",
            "Requirement already satisfied: regex!=2019.12.17 in /usr/local/lib/python3.10/dist-packages (from transformers) (2024.5.15)\n",
            "Requirement already satisfied: requests in /usr/local/lib/python3.10/dist-packages (from transformers) (2.32.3)\n",
            "Requirement already satisfied: safetensors>=0.4.1 in /usr/local/lib/python3.10/dist-packages (from transformers) (0.4.4)\n",
            "Requirement already satisfied: tokenizers<0.20,>=0.19 in /usr/local/lib/python3.10/dist-packages (from transformers) (0.19.1)\n",
            "Requirement already satisfied: tqdm>=4.27 in /usr/local/lib/python3.10/dist-packages (from transformers) (4.66.5)\n",
            "Requirement already satisfied: fsspec>=2023.5.0 in /usr/local/lib/python3.10/dist-packages (from huggingface-hub<1.0,>=0.23.2->transformers) (2024.6.1)\n",
            "Requirement already satisfied: typing-extensions>=3.7.4.3 in /usr/local/lib/python3.10/dist-packages (from huggingface-hub<1.0,>=0.23.2->transformers) (4.12.2)\n",
            "Requirement already satisfied: charset-normalizer<4,>=2 in /usr/local/lib/python3.10/dist-packages (from requests->transformers) (3.3.2)\n",
            "Requirement already satisfied: idna<4,>=2.5 in /usr/local/lib/python3.10/dist-packages (from requests->transformers) (3.7)\n",
            "Requirement already satisfied: urllib3<3,>=1.21.1 in /usr/local/lib/python3.10/dist-packages (from requests->transformers) (2.0.7)\n",
            "Requirement already satisfied: certifi>=2017.4.17 in /usr/local/lib/python3.10/dist-packages (from requests->transformers) (2024.7.4)\n"
          ]
        }
      ]
    },
    {
      "cell_type": "code",
      "source": [
        "from transformers import pipeline\n",
        "ner_transformer = pipeline(model=\"dslim/bert-base-NER-uncased\")"
      ],
      "metadata": {
        "colab": {
          "base_uri": "https://localhost:8080/"
        },
        "id": "oaXtNp2x63jT",
        "outputId": "02f90d8e-4c72-42e0-a7e2-d09b81f49192"
      },
      "execution_count": 157,
      "outputs": [
        {
          "output_type": "stream",
          "name": "stderr",
          "text": [
            "Some weights of the model checkpoint at dslim/bert-base-NER-uncased were not used when initializing BertForTokenClassification: ['bert.pooler.dense.bias', 'bert.pooler.dense.weight']\n",
            "- This IS expected if you are initializing BertForTokenClassification from the checkpoint of a model trained on another task or with another architecture (e.g. initializing a BertForSequenceClassification model from a BertForPreTraining model).\n",
            "- This IS NOT expected if you are initializing BertForTokenClassification from the checkpoint of a model that you expect to be exactly identical (initializing a BertForSequenceClassification model from a BertForSequenceClassification model).\n"
          ]
        }
      ]
    },
    {
      "cell_type": "code",
      "source": [
        "text = \"bill gates founded microsoft\"\n",
        "ner_transformer(text)"
      ],
      "metadata": {
        "colab": {
          "base_uri": "https://localhost:8080/"
        },
        "id": "mtZQ5xZA63gU",
        "outputId": "04288c7f-c1a5-4d65-bb9e-9e8ea4baafc0"
      },
      "execution_count": 158,
      "outputs": [
        {
          "output_type": "execute_result",
          "data": {
            "text/plain": [
              "[{'entity': 'B-PER',\n",
              "  'score': 0.99582714,\n",
              "  'index': 1,\n",
              "  'word': 'bill',\n",
              "  'start': 0,\n",
              "  'end': 4},\n",
              " {'entity': 'I-PER',\n",
              "  'score': 0.99281466,\n",
              "  'index': 2,\n",
              "  'word': 'gates',\n",
              "  'start': 5,\n",
              "  'end': 10},\n",
              " {'entity': 'B-ORG',\n",
              "  'score': 0.98988754,\n",
              "  'index': 4,\n",
              "  'word': 'microsoft',\n",
              "  'start': 19,\n",
              "  'end': 28}]"
            ]
          },
          "metadata": {},
          "execution_count": 158
        }
      ]
    },
    {
      "cell_type": "code",
      "source": [
        "#tagging format IOB\n",
        "#IOB format :\n",
        "#I --> inside\n",
        "#O --> outside\n",
        "#B --> beginning"
      ],
      "metadata": {
        "id": "mL_oYUkx63dx"
      },
      "execution_count": null,
      "outputs": []
    },
    {
      "cell_type": "code",
      "source": [
        "text = \"narayan murthy founded infosys\"\n",
        "ner_transformer(text)"
      ],
      "metadata": {
        "colab": {
          "base_uri": "https://localhost:8080/"
        },
        "id": "CA5_8P-E63bM",
        "outputId": "36486543-3733-4e68-9066-4ef4c9fae238"
      },
      "execution_count": 159,
      "outputs": [
        {
          "output_type": "execute_result",
          "data": {
            "text/plain": [
              "[{'entity': 'B-PER',\n",
              "  'score': 0.99548846,\n",
              "  'index': 1,\n",
              "  'word': 'narayan',\n",
              "  'start': 0,\n",
              "  'end': 7},\n",
              " {'entity': 'I-PER',\n",
              "  'score': 0.9973943,\n",
              "  'index': 2,\n",
              "  'word': 'mu',\n",
              "  'start': 8,\n",
              "  'end': 10},\n",
              " {'entity': 'I-PER',\n",
              "  'score': 0.984729,\n",
              "  'index': 3,\n",
              "  'word': '##rth',\n",
              "  'start': 10,\n",
              "  'end': 13},\n",
              " {'entity': 'I-PER',\n",
              "  'score': 0.98603475,\n",
              "  'index': 4,\n",
              "  'word': '##y',\n",
              "  'start': 13,\n",
              "  'end': 14},\n",
              " {'entity': 'B-ORG',\n",
              "  'score': 0.99705446,\n",
              "  'index': 6,\n",
              "  'word': 'info',\n",
              "  'start': 23,\n",
              "  'end': 27},\n",
              " {'entity': 'I-ORG',\n",
              "  'score': 0.9965019,\n",
              "  'index': 7,\n",
              "  'word': '##sy',\n",
              "  'start': 27,\n",
              "  'end': 29},\n",
              " {'entity': 'I-ORG',\n",
              "  'score': 0.9972197,\n",
              "  'index': 8,\n",
              "  'word': '##s',\n",
              "  'start': 29,\n",
              "  'end': 30}]"
            ]
          },
          "metadata": {},
          "execution_count": 159
        }
      ]
    },
    {
      "cell_type": "code",
      "source": [],
      "metadata": {
        "id": "aopaWlQb63Jp"
      },
      "execution_count": null,
      "outputs": []
    }
  ]
}